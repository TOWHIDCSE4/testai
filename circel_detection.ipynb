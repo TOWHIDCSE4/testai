{
 "cells": [
  {
   "cell_type": "code",
   "execution_count": null,
   "metadata": {},
   "outputs": [],
   "source": []
  },
  {
   "cell_type": "markdown",
   "metadata": {},
   "source": [
    "# Extract Image"
   ]
  },
  {
   "cell_type": "code",
   "execution_count": 1,
   "metadata": {},
   "outputs": [
    {
     "name": "stdout",
     "output_type": "stream",
     "text": [
      "[[2]\n",
      " [1]\n",
      " [0]\n",
      " [3]]\n"
     ]
    }
   ],
   "source": [
    "import cv2\n",
    "import numpy as np\n",
    "\n",
    "# Load the image\n",
    "image = cv2.imread('/home/srv/Work/PythonScript/distance_calculation/image/IMG_6893.jpg')\n",
    "\n",
    "# Detect the markers in the image\n",
    "aruco_dict = cv2.aruco.getPredefinedDictionary(cv2.aruco.DICT_4X4_50)\n",
    "aruco_params = cv2.aruco.DetectorParameters()\n",
    "corners, ids, rejected = cv2.aruco.detectMarkers(image, aruco_dict, parameters=aruco_params)\n",
    "\n",
    "# Verify that 4 markers are detected\n",
    "print(ids)\n",
    "if ids is not None and len(ids) == 4:\n",
    "    # Flatten the ids list\n",
    "    ids = ids.flatten()\n",
    "\n",
    "    # Dictionary to store the marker id and its corresponding corners\n",
    "    marker_corners = {}\n",
    "    \n",
    "    for marker_corner, marker_id in zip(corners, ids):\n",
    "        # Get the corner points of each marker\n",
    "        marker_corners[marker_id] = marker_corner[0]\n",
    "\n",
    "    # Sort the marker ids to maintain a consistent order\n",
    "    sorted_ids = sorted(marker_corners.keys())\n",
    "\n",
    "    # Get the corners of the markers in order\n",
    "    pts = np.array([marker_corners[sorted_ids[0]][0], marker_corners[sorted_ids[1]][1],\n",
    "                    marker_corners[sorted_ids[2]][2], marker_corners[sorted_ids[3]][3]], dtype='float32')\n",
    "\n",
    "    # Create a blank 990mm x 990mm image\n",
    "    dpi = 300  # Assuming the DPI (dots per inch) is 300\n",
    "    mm_per_inch = 25.4\n",
    "    pixels_per_mm = dpi / mm_per_inch\n",
    "    size_in_pixels = int(990 * pixels_per_mm)\n",
    "    blank_image = np.zeros((size_in_pixels, size_in_pixels, 3), dtype=np.uint8)\n",
    "\n",
    "    # Define the destination points (corners of the blank image)\n",
    "    dst_pts = np.array([[0, 0], [size_in_pixels - 1, 0], [size_in_pixels - 1, size_in_pixels - 1], [0, size_in_pixels - 1]], dtype='float32')\n",
    "\n",
    "    # Get the actual marker sizes and add padding if necessary\n",
    "    marker_size = max(np.linalg.norm(pts[0] - pts[1]), np.linalg.norm(pts[1] - pts[2]))\n",
    "    padding =  int(marker_size / 8)\n",
    "\n",
    "    # Adjust the destination points to ensure markers fit well within the corners with padding\n",
    "    dst_pts[0] += [padding, padding]\n",
    "    dst_pts[1] += [-padding, padding]\n",
    "    dst_pts[2] += [-padding, -padding]\n",
    "    dst_pts[3] += [padding, -padding]\n",
    "\n",
    "    # Compute the perspective transform matrix\n",
    "    M = cv2.getPerspectiveTransform(pts, dst_pts)\n",
    "\n",
    "    # Warp the original image to the new image size\n",
    "    warped = cv2.warpPerspective(image, M, (size_in_pixels, size_in_pixels))\n",
    "\n",
    "    # Save the result\n",
    "    cv2.imwrite(\"990mm_x_990mm_Image.jpg\", warped)\n",
    "    # cv2.imshow(\"990mm x 990mm Image\", warped)\n",
    "    # cv2.waitKey(0)\n",
    "    # cv2.destroyAllWindows()\n",
    "else:\n",
    "    print(\"Could not detect 4 markers.\")\n"
   ]
  },
  {
   "cell_type": "markdown",
   "metadata": {},
   "source": [
    "# Apply grid"
   ]
  },
  {
   "cell_type": "code",
   "execution_count": 2,
   "metadata": {},
   "outputs": [
    {
     "name": "stdout",
     "output_type": "stream",
     "text": [
      "x=0.0mm, y=0.0mm\n",
      "x=0.0mm, y=120.0mm\n",
      "x=0.0mm, y=310.0mm\n",
      "x=0.0mm, y=500.0mm\n",
      "x=0.0mm, y=690.0mm\n",
      "x=0.0mm, y=870.0mm\n",
      "x=0.0mm, y=990.0mm\n",
      "x=120.0mm, y=0.0mm\n",
      "x=120.0mm, y=120.0mm\n",
      "x=120.0mm, y=310.0mm\n",
      "x=120.0mm, y=500.0mm\n",
      "x=120.0mm, y=690.0mm\n",
      "x=120.0mm, y=870.0mm\n",
      "x=120.0mm, y=990.0mm\n",
      "x=310.0mm, y=0.0mm\n",
      "x=310.0mm, y=120.0mm\n",
      "x=310.0mm, y=310.0mm\n",
      "x=310.0mm, y=500.0mm\n",
      "x=310.0mm, y=690.0mm\n",
      "x=310.0mm, y=870.0mm\n",
      "x=310.0mm, y=990.0mm\n",
      "x=500.0mm, y=0.0mm\n",
      "x=500.0mm, y=120.0mm\n",
      "x=500.0mm, y=310.0mm\n",
      "x=500.0mm, y=500.0mm\n",
      "x=500.0mm, y=690.0mm\n",
      "x=500.0mm, y=870.0mm\n",
      "x=500.0mm, y=990.0mm\n",
      "x=690.0mm, y=0.0mm\n",
      "x=690.0mm, y=120.0mm\n",
      "x=690.0mm, y=310.0mm\n",
      "x=690.0mm, y=500.0mm\n",
      "x=690.0mm, y=690.0mm\n",
      "x=690.0mm, y=870.0mm\n",
      "x=690.0mm, y=990.0mm\n",
      "x=870.0mm, y=0.0mm\n",
      "x=870.0mm, y=120.0mm\n",
      "x=870.0mm, y=310.0mm\n",
      "x=870.0mm, y=500.0mm\n",
      "x=870.0mm, y=690.0mm\n",
      "x=870.0mm, y=870.0mm\n",
      "x=870.0mm, y=990.0mm\n",
      "x=990.0mm, y=0.0mm\n",
      "x=990.0mm, y=120.0mm\n",
      "x=990.0mm, y=310.0mm\n",
      "x=990.0mm, y=500.0mm\n",
      "x=990.0mm, y=690.0mm\n",
      "x=990.0mm, y=870.0mm\n",
      "x=990.0mm, y=990.0mm\n"
     ]
    },
    {
     "data": {
      "text/plain": [
       "True"
      ]
     },
     "execution_count": 2,
     "metadata": {},
     "output_type": "execute_result"
    }
   ],
   "source": [
    "import numpy as np\n",
    "import cv2\n",
    "\n",
    "# Define the grid sizes along the x and y axes\n",
    "x_grid_sizes = [120, 190, 190, 190, 180, 120]\n",
    "y_grid_sizes = [120, 190, 190, 190, 180, 120]\n",
    "\n",
    "# Calculate the number of grid points\n",
    "x_points = len(x_grid_sizes) + 1\n",
    "y_points = len(y_grid_sizes) + 1\n",
    "\n",
    "# Initialize the image\n",
    "dpi = 300  # Assuming the DPI (dots per inch) is 300\n",
    "mm_per_inch = 25.4\n",
    "pixels_per_mm = dpi / mm_per_inch\n",
    "image_size = int(990 * pixels_per_mm)\n",
    "image = warped.copy()  # Use the previously warped image\n",
    "\n",
    "# Calculate the pixel positions for the grid lines\n",
    "x_positions = np.cumsum([0] + x_grid_sizes) * pixels_per_mm\n",
    "y_positions = np.cumsum([0] + y_grid_sizes) * pixels_per_mm\n",
    "\n",
    "# Define line and circle properties\n",
    "line_color = (0, 255, 0)  # Green color for grid lines\n",
    "line_thickness = 3  # Thickness of the grid lines\n",
    "circle_color = (0, 0, 255)  # Red color for circles\n",
    "circle_radius = 10  # Radius of the circles\n",
    "circle_thickness = 2  # Thickness of the circle edges\n",
    "\n",
    "# Draw the grid lines\n",
    "for x in x_positions:\n",
    "    cv2.line(image, (int(x), 0), (int(x), image_size), line_color, line_thickness)\n",
    "for y in y_positions:\n",
    "    cv2.line(image, (0, int(y)), (image_size, int(y)), line_color, line_thickness)\n",
    "\n",
    "# Define text properties\n",
    "font = cv2.FONT_HERSHEY_SIMPLEX\n",
    "font_scale = 3\n",
    "font_color = (255, 255, 255)  # White color for text\n",
    "font_thickness = 5\n",
    "\n",
    "# Print the x, y values of each matching point and mark them on the image\n",
    "for i, x in enumerate(x_positions):\n",
    "    for j, y in enumerate(y_positions):\n",
    "        x_mm = x / pixels_per_mm\n",
    "        # y_mm = (image_size - y) / pixels_per_mm  # Adjust to start y from the bottom\n",
    "        y_mm = y/pixels_per_mm\n",
    "        text = f'x={x_mm:.1f}mm, y={round(y_mm):.1f}mm'\n",
    "        print(text)\n",
    "        cv2.circle(image, (int(x), int(y)), circle_radius, circle_color, circle_thickness)\n",
    "        cv2.putText(image, text, (int(x) + 10, int(y) - 10), font, font_scale, font_color, font_thickness)\n",
    "\n",
    "# Save and display the result\n",
    "cv2.imwrite(\"990mm_x_990mm_grid.jpg\", image)\n",
    "# cv2.imshow(\"990mm x 990mm Grid\", image)\n",
    "# cv2.waitKey(0)\n",
    "# cv2.destroyAllWindows()\n"
   ]
  },
  {
   "cell_type": "code",
   "execution_count": null,
   "metadata": {},
   "outputs": [],
   "source": []
  },
  {
   "cell_type": "markdown",
   "metadata": {},
   "source": [
    "# detect circle"
   ]
  },
  {
   "cell_type": "code",
   "execution_count": 13,
   "metadata": {},
   "outputs": [
    {
     "name": "stdout",
     "output_type": "stream",
     "text": [
      "Circle center in mm: x=867.83, y=298.79, radius=17.10\n",
      "Circle center in mm: x=868.93, y=868.17, radius=16.93\n",
      "Circle center in mm: x=311.32, y=870.71, radius=17.19\n",
      "Circle center in mm: x=688.85, y=119.72, radius=17.10\n",
      "Circle center in mm: x=499.03, y=119.63, radius=17.10\n",
      "Circle center in mm: x=689.02, y=868.85, radius=16.93\n",
      "Circle center in mm: x=868.93, y=489.20, radius=16.93\n",
      "Circle center in mm: x=119.21, y=299.72, radius=17.19\n",
      "Circle center in mm: x=867.49, y=118.28, radius=17.19\n",
      "Circle center in mm: x=308.61, y=121.67, radius=17.10\n",
      "Circle center in mm: x=869.95, y=678.86, radius=17.19\n",
      "Circle center in mm: x=192.53, y=767.16, radius=17.70\n",
      "Circle center in mm: x=119.89, y=120.90, radius=17.19\n",
      "Circle center in mm: x=505.29, y=869.27, radius=17.10\n",
      "Circle center in mm: x=120.73, y=494.88, radius=17.19\n"
     ]
    },
    {
     "data": {
      "text/plain": [
       "True"
      ]
     },
     "execution_count": 13,
     "metadata": {},
     "output_type": "execute_result"
    }
   ],
   "source": [
    "import cv2\n",
    "import numpy as np\n",
    "\n",
    "# Load the image\n",
    "\n",
    "image = warped.copy()\n",
    "output = image.copy()\n",
    "\n",
    "# Convert the image to grayscale\n",
    "gray = cv2.cvtColor(image, cv2.COLOR_BGR2GRAY)\n",
    "\n",
    "# Apply GaussianBlur to reduce noise and improve circle detection\n",
    "gray_blurred = cv2.GaussianBlur(gray, (15, 15), 1)\n",
    "\n",
    "# Apply Hough Circle Transform to detect circles\n",
    "detected_circles = cv2.HoughCircles(gray_blurred, \n",
    "                                    cv2.HOUGH_GRADIENT,\n",
    "                                    dp=1.33,\n",
    "                                    minDist=1700,\n",
    "                                    param1=48,\n",
    "                                    param2=30, \n",
    "                                    minRadius=200, \n",
    "                                    maxRadius=210)\n",
    "\n",
    "# If circles are detected, draw them on the output image\n",
    "circle_centers = []\n",
    "if detected_circles is not None:\n",
    "    detected_circles = np.uint16(np.around(detected_circles))\n",
    "    for (x, y, r) in detected_circles[0, :]:\n",
    "        # y = (image_size - y)\n",
    "        circle_centers.append((x, y, r))\n",
    "        cv2.circle(output, (x, y), r, (0, 255, 0), 10)\n",
    "        cv2.rectangle(output, (x - 5, y - 5), (x + 5, y + 5), (0, 135, 255), -1)\n",
    "\n",
    "# Convert circle centers and radius to mm\n",
    "dpi = 300  # Assuming the DPI (dots per inch) is 300\n",
    "mm_per_inch = 25.4\n",
    "pixels_per_mm = dpi / mm_per_inch\n",
    "\n",
    "circle_centers_mm = []\n",
    "for (x, y, r) in circle_centers:\n",
    "    x_mm = x / pixels_per_mm\n",
    "    y_mm = y / pixels_per_mm\n",
    "    r_mm = r / pixels_per_mm\n",
    "    circle_centers_mm.append((x_mm, y_mm, r_mm))\n",
    "    print(f'Circle center in mm: x={x_mm:.2f}, y={y_mm:.2f}, radius={r_mm:.2f}')\n",
    "    \n",
    "    # Plot the center coordinates in mm on the image\n",
    "    text = f'({x_mm:.2f}mm, {y_mm:.2f}mm)'\n",
    "    cv2.putText(output, text, (x + 10, y - 10), cv2.FONT_HERSHEY_SIMPLEX, 1, (255, 0, 0), 2)\n",
    "\n",
    "# Save the output image with detected circles\n",
    "cv2.imwrite(\"detect_with_mm.jpg\", output)\n",
    "\n"
   ]
  },
  {
   "cell_type": "markdown",
   "metadata": {},
   "source": [
    "# final plotting "
   ]
  },
  {
   "cell_type": "code",
   "execution_count": 11,
   "metadata": {},
   "outputs": [
    {
     "name": "stdout",
     "output_type": "stream",
     "text": [
      "x=0.0mm, y=0.0mm\n",
      "x=0.0mm, y=120.0mm\n",
      "x=0.0mm, y=310.0mm\n",
      "x=0.0mm, y=500.0mm\n",
      "x=0.0mm, y=690.0mm\n",
      "x=0.0mm, y=870.0mm\n",
      "x=0.0mm, y=990.0mm\n",
      "x=120.0mm, y=0.0mm\n",
      "x=120.0mm, y=120.0mm\n",
      "x=120.0mm, y=310.0mm\n",
      "x=120.0mm, y=500.0mm\n",
      "x=120.0mm, y=690.0mm\n",
      "x=120.0mm, y=870.0mm\n",
      "x=120.0mm, y=990.0mm\n",
      "x=310.0mm, y=0.0mm\n",
      "x=310.0mm, y=120.0mm\n",
      "x=310.0mm, y=310.0mm\n",
      "x=310.0mm, y=500.0mm\n",
      "x=310.0mm, y=690.0mm\n",
      "x=310.0mm, y=870.0mm\n",
      "x=310.0mm, y=990.0mm\n",
      "x=500.0mm, y=0.0mm\n",
      "x=500.0mm, y=120.0mm\n",
      "x=500.0mm, y=310.0mm\n",
      "x=500.0mm, y=500.0mm\n",
      "x=500.0mm, y=690.0mm\n",
      "x=500.0mm, y=870.0mm\n",
      "x=500.0mm, y=990.0mm\n",
      "x=690.0mm, y=0.0mm\n",
      "x=690.0mm, y=120.0mm\n",
      "x=690.0mm, y=310.0mm\n",
      "x=690.0mm, y=500.0mm\n",
      "x=690.0mm, y=690.0mm\n",
      "x=690.0mm, y=870.0mm\n",
      "x=690.0mm, y=990.0mm\n",
      "x=870.0mm, y=0.0mm\n",
      "x=870.0mm, y=120.0mm\n",
      "x=870.0mm, y=310.0mm\n",
      "x=870.0mm, y=500.0mm\n",
      "x=870.0mm, y=690.0mm\n",
      "x=870.0mm, y=870.0mm\n",
      "x=870.0mm, y=990.0mm\n",
      "x=990.0mm, y=0.0mm\n",
      "x=990.0mm, y=120.0mm\n",
      "x=990.0mm, y=310.0mm\n",
      "x=990.0mm, y=500.0mm\n",
      "x=990.0mm, y=690.0mm\n",
      "x=990.0mm, y=870.0mm\n",
      "x=990.0mm, y=990.0mm\n",
      "Circle center in mm: x=869.19, y=868.09, radius=17.10\n",
      "Circle center in mm: x=867.75, y=298.53, radius=17.10\n",
      "Circle center in mm: x=688.93, y=868.76, radius=17.10\n",
      "Circle center in mm: x=311.49, y=870.54, radius=17.10\n",
      "Circle center in mm: x=689.02, y=119.55, radius=17.19\n",
      "Circle center in mm: x=499.03, y=119.63, radius=17.10\n",
      "Circle center in mm: x=308.86, y=121.58, radius=17.19\n",
      "Circle center in mm: x=870.03, y=678.94, radius=17.10\n",
      "Circle center in mm: x=119.55, y=490.47, radius=17.36\n",
      "Circle center in mm: x=867.49, y=118.36, radius=17.19\n",
      "Circle center in mm: x=119.21, y=299.72, radius=17.19\n",
      "Circle center in mm: x=869.02, y=488.95, radius=17.44\n",
      "Circle center in mm: x=119.89, y=120.90, radius=17.19\n",
      "Circle center in mm: x=505.38, y=869.19, radius=17.10\n",
      "Circle center in mm: x=518.08, y=352.47, radius=17.44\n"
     ]
    },
    {
     "data": {
      "text/plain": [
       "True"
      ]
     },
     "execution_count": 11,
     "metadata": {},
     "output_type": "execute_result"
    }
   ],
   "source": [
    "image = warped.copy()\n",
    "for i, x in enumerate(x_positions):\n",
    "    for j, y in enumerate(y_positions):\n",
    "        x_mm = x / pixels_per_mm\n",
    "        # y_mm = (image_size - y) / pixels_per_mm  # Adjust to start y from the bottom\n",
    "        y_mm = y/pixels_per_mm\n",
    "        text = f'x={x_mm:.1f}mm, y={round(y_mm):.1f}mm'\n",
    "        print(text)\n",
    "        cv2.circle(image, (int(x), int(y)), circle_radius, circle_color, circle_thickness)\n",
    "        cv2.putText(image, text, (int(x) + 10, int(y) - 10), font, font_scale, font_color, font_thickness)\n",
    "\n",
    "for (x, y, r) in circle_centers:\n",
    "    x_mm = x / pixels_per_mm\n",
    "    y_mm = y / pixels_per_mm\n",
    "    r_mm = r / pixels_per_mm\n",
    "    circle_centers_mm.append((x_mm, y_mm, r_mm))\n",
    "    print(f'Circle center in mm: x={x_mm:.2f}, y={y_mm:.2f}, radius={r_mm:.2f}')\n",
    "    \n",
    "    # Plot the center coordinates in mm on the image\n",
    "    text = f'({x_mm:.2f}mm, {y_mm:.2f}mm)'\n",
    "    cv2.putText(image, text, (x + 10, y - 10), cv2.FONT_HERSHEY_SIMPLEX, 10, (255, 0, 0), 2)\n",
    "\n",
    "# Save the output image with detected circles\n",
    "cv2.imwrite(\"final_mm.jpg\", image)\n",
    "# Save and display the result"
   ]
  },
  {
   "cell_type": "code",
   "execution_count": 13,
   "metadata": {},
   "outputs": [],
   "source": [
    "image = warped.copy()\n",
    "\n",
    "cicle_dict = {}\n",
    "\n",
    "distances = []\n",
    "for (x_c, y_c, r_c) in circle_centers:\n",
    "    x_mm_circle = x_c / pixels_per_mm\n",
    "    y_mm_circle = y_c / pixels_per_mm\n",
    "    r_mm = r / pixels_per_mm\n",
    "    grids = []\n",
    "\n",
    "    for i, x_g in enumerate(x_positions):\n",
    "        for j, y_g in enumerate(y_positions):\n",
    "            x_mm_grid = x_g / pixels_per_mm\n",
    "            # y_mm = (image_size - y) / pixels_per_mm  # Adjust to start y from the bottom\n",
    "            y_mm_grid = y_g/pixels_per_mm\n",
    "            distance = np.sqrt((x_mm_circle - x_mm_grid)**2 + (y_mm_circle - y_mm_grid)**2)\n",
    "            grids.append({(int(x_g), int(y_g)):distance})\n",
    "#     new_dict = {\"distance\": distances, \"grids\": grids}\n",
    "    cicle_dict[(int(x_c), int(y_c))]  = grids\n"
   ]
  },
  {
   "cell_type": "code",
   "execution_count": 14,
   "metadata": {},
   "outputs": [
    {
     "name": "stdout",
     "output_type": "stream",
     "text": [
      "center (10266, 10253)\n",
      "grid (10275, 10275)\n",
      "distance 171.63402237836704\n",
      "--------------------\n",
      "center (10249, 3526)\n",
      "grid (10275, 3661)\n",
      "distance 702.1892164534823\n",
      "--------------------\n",
      "center (8137, 10261)\n",
      "grid (8149, 10275)\n",
      "distance 324.56054173125995\n",
      "--------------------\n",
      "center (3679, 10282)\n",
      "grid (3661, 10275)\n",
      "distance 688.9467932641018\n",
      "--------------------\n",
      "center (8138, 1412)\n",
      "grid (8149, 1417)\n",
      "distance 921.0184193240774\n",
      "--------------------\n",
      "center (5894, 1413)\n",
      "grid (5905, 1417)\n",
      "distance 999.2963010361063\n",
      "--------------------\n",
      "center (3648, 1436)\n",
      "grid (3661, 1417)\n",
      "distance 1103.6744226043797\n",
      "--------------------\n",
      "center (10276, 8019)\n",
      "grid (10275, 8149)\n",
      "distance 333.3898027321438\n",
      "--------------------\n",
      "center (1412, 5793)\n",
      "grid (1417, 5905)\n",
      "distance 1003.5988181422118\n",
      "--------------------\n",
      "center (10246, 1398)\n",
      "grid (10275, 1417)\n",
      "distance 880.2027455030523\n",
      "--------------------\n",
      "center (1408, 3540)\n",
      "grid (1417, 3661)\n",
      "distance 1111.1977958253478\n",
      "--------------------\n",
      "center (10264, 5775)\n",
      "grid (10275, 5905)\n",
      "distance 515.4489164942644\n",
      "--------------------\n",
      "center (1416, 1428)\n",
      "grid (1417, 1417)\n",
      "distance 1229.805980535141\n",
      "--------------------\n",
      "center (5969, 10266)\n",
      "grid (5905, 10275)\n",
      "distance 499.4563112883626\n",
      "--------------------\n",
      "center (6119, 4163)\n",
      "grid (5905, 3661)\n",
      "distance 793.1965658495728\n",
      "--------------------\n"
     ]
    }
   ],
   "source": [
    "image = warped.copy()\n",
    "for key_c in  cicle_dict.keys():\n",
    "    min = 9999999\n",
    "    grid_ = key_c\n",
    "    # print(cicle_dict[key_c])\n",
    "    \n",
    "    for key_g in cicle_dict[key_c]:\n",
    "        key =list(key_g.keys())\n",
    "        dis = key_g[key[0]]\n",
    "        # print(dis)\n",
    "        if dis<min:\n",
    "            min =dis\n",
    "            grid_ = key[0]\n",
    "    cv2.circle(image, key_c, circle_radius, (255,255,255), circle_thickness)\n",
    "    cv2.circle(image, grid_, circle_radius, (0,0,255), circle_thickness)\n",
    "    \n",
    "    # cv2.circle(image, grid_, circle_radius, grid_circle_color, circle_thickness)\n",
    "    image = cv2.line(image, key_c,grid_ ,(0,255,0),9)\n",
    "    print(\"center\", key_c)\n",
    "    print(\"grid\", grid_)\n",
    "    print(\"distance\", dis)\n",
    "    print(\"--------------------\")\n",
    "    cv2.imwrite(\"distance_mm.jpg\", image)"
   ]
  },
  {
   "cell_type": "code",
   "execution_count": 2,
   "metadata": {},
   "outputs": [],
   "source": [
    "from ultralytics import YOLO"
   ]
  },
  {
   "cell_type": "code",
   "execution_count": 57,
   "metadata": {},
   "outputs": [
    {
     "name": "stdout",
     "output_type": "stream",
     "text": [
      "\n",
      "0: 640x640 16 circles, 3905.3ms\n",
      "Speed: 26.2ms preprocess, 3905.3ms inference, 37.4ms postprocess per image at shape (1, 3, 640, 640)\n"
     ]
    }
   ],
   "source": [
    "model = YOLO(\"source/weights/best.pt\")\n",
    "img = cv2.imread(\"/home/srv/Work/PythonScript/distance_calculation/source/result/extracted_image.jpg\")\n",
    "results = model(img)\n",
    "# print(results)\n",
    "# # Process results list\n",
    "# for result in results:\n",
    "#     boxes = result.boxes  # Boxes object for bounding box outputs\n",
    "#     masks = result.masks  # Masks object for segmentation masks outputs\n",
    "#     keypoints = result.keypoints  # Keypoints object for pose outputs\n",
    "#     probs = result.probs  # Probs object for classification outputs\n",
    "#     # obb = result.obb  # Oriented boxes object for OBB outputs\n",
    "#     # result.show()  # display to screen\n",
    "#     # result.save(filename=\"result.jpg\")  # save to disk"
   ]
  },
  {
   "cell_type": "code",
   "execution_count": 48,
   "metadata": {},
   "outputs": [
    {
     "name": "stdout",
     "output_type": "stream",
     "text": [
      "\n",
      "image 1/1 /home/srv/Work/PythonScript/distance_calculation/source/result/extracted_image.jpg: 640x640 16 circles, 3695.5ms\n",
      "Speed: 7.7ms preprocess, 3695.5ms inference, 39.5ms postprocess per image at shape (1, 3, 640, 640)\n"
     ]
    }
   ],
   "source": [
    "# model = YOLO(\"/home/srv/Work/PythonScript/distance_calculation/best.pt\")\n",
    "# results = model(\"/home/srv/Work/PythonScript/distance_calculation/source/result/extracted_image.jpg\")\n",
    "# # Process results list\n",
    "# for result in results:\n",
    "#     boxes = result.boxes  # Boxes object for bounding box outputs\n",
    "#     masks = result.masks  # Masks object for segmentation masks outputs\n",
    "#     keypoints = result.keypoints  # Keypoints object for pose outputs\n",
    "#     probs = result.probs  # Probs object for classification outputs\n",
    "#     # obb = result.obb  # Oriented boxes object for OBB outputs\n",
    "#     # result.show()  # display to screen\n",
    "#     # result.save(filename=\"result.jpg\")  # save to disk"
   ]
  },
  {
   "cell_type": "code",
   "execution_count": 56,
   "metadata": {},
   "outputs": [
    {
     "data": {
      "text/plain": [
       "True"
      ]
     },
     "execution_count": 56,
     "metadata": {},
     "output_type": "execute_result"
    }
   ],
   "source": [
    "boxes = results[0].boxes.xyxy\n",
    "img = cv2.imread(\"/home/srv/Work/PythonScript/distance_calculation/source/result/extracted_image.jpg\")\n",
    "\n",
    "for box in boxes:\n",
    "    x_min,y_min,x_max,y_max = box\n",
    "    x_min = int(x_min)\n",
    "    y_min = int(y_min)\n",
    "    x_max = int(x_max)\n",
    "    y_max = int(y_max)\n",
    "    x_center = (x_min + x_max) / 2\n",
    "    y_center = (y_min + y_max) / 2\n",
    "    radius = int(min(x_max - x_min, y_max - y_min) / 2)\n",
    "    cv2.circle(img, (int(x_center), int(y_center)), radius, (0, 255, 0), 10)  # Green color, 2px thickness\n",
    "\n",
    "    # Draw the bounding box on the image\n",
    "    # cv2.rectangle(img,(x_min,y_min),(x_max,y_max), (0,255,0), 10)\n",
    "    cv2.circle(img, (int(x_center), int(y_center)), radius=10, color=(0, 0, 255), thickness=5)  # Red dot\n",
    "    \n",
    "\n",
    "cv2.imwrite(\"output_.jpg\", img)"
   ]
  },
  {
   "cell_type": "code",
   "execution_count": 76,
   "metadata": {},
   "outputs": [
    {
     "data": {
      "text/plain": [
       "0"
      ]
     },
     "execution_count": 76,
     "metadata": {},
     "output_type": "execute_result"
    }
   ],
   "source": [
    "a=  -0.16933333333332712\n",
    "x = 0 if a >=-1 and a < 1 else 1\n",
    "x"
   ]
  },
  {
   "cell_type": "code",
   "execution_count": 63,
   "metadata": {},
   "outputs": [
    {
     "data": {
      "text/plain": [
       "1"
      ]
     },
     "execution_count": 63,
     "metadata": {},
     "output_type": "execute_result"
    }
   ],
   "source": []
  },
  {
   "cell_type": "code",
   "execution_count": 7,
   "metadata": {},
   "outputs": [],
   "source": []
  },
  {
   "cell_type": "code",
   "execution_count": null,
   "metadata": {},
   "outputs": [],
   "source": []
  }
 ],
 "metadata": {
  "kernelspec": {
   "display_name": "distace_calculation",
   "language": "python",
   "name": "python3"
  },
  "language_info": {
   "codemirror_mode": {
    "name": "ipython",
    "version": 3
   },
   "file_extension": ".py",
   "mimetype": "text/x-python",
   "name": "python",
   "nbconvert_exporter": "python",
   "pygments_lexer": "ipython3",
   "version": "3.10.12"
  }
 },
 "nbformat": 4,
 "nbformat_minor": 2
}
